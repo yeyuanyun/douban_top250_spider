{
 "cells": [
  {
   "cell_type": "markdown",
   "id": "2362411d-9778-4528-a174-b222d9e18fd8",
   "metadata": {},
   "source": [
    "### 导入所需模块"
   ]
  },
  {
   "cell_type": "code",
   "execution_count": null,
   "id": "248f0aa1-d3bc-49ab-b585-21c50969c484",
   "metadata": {},
   "outputs": [],
   "source": [
    "import requests\n",
    "import csv\n",
    "import os\n",
    "import re\n",
    "from lxml import etree"
   ]
  },
  {
   "cell_type": "markdown",
   "id": "22046501-4fad-4a8f-b05b-8e758e3c97d4",
   "metadata": {},
   "source": [
    "### 前置准备\n",
    "#### 目的url地址 'https://movie.douban.com/top250?start=0&filter='\n",
    "#### 之后每隔25条数据下一页，即start=25 "
   ]
  },
  {
   "cell_type": "code",
   "execution_count": null,
   "id": "40535d7e-b9e1-43bd-be8b-6802f171f71a",
   "metadata": {},
   "outputs": [],
   "source": [
    "# 目的url地址\n",
    "totalUrl = 'https://movie.douban.com/top250?'\n",
    "headers = {\n",
    "            'user-agent': 'Mozilla/5.0 (Windows NT 10.0; WOW64) AppleWebKit/537.36 (KHTML, like Gecko) Chrome/94.0.4606.71 Safari/537.36 Core/1.94.197.400 QQBrowser/11.7.5287.400'\n",
    "}"
   ]
  },
  {
   "cell_type": "markdown",
   "id": "82ccbd31-9cb2-4f22-b7a9-95859c832beb",
   "metadata": {},
   "source": [
    "### 创建记录数据文件，仅运行一次,\n",
    "#### 重新爬取时删除file文件"
   ]
  },
  {
   "cell_type": "code",
   "execution_count": null,
   "id": "b5305082-ccc8-483f-9bcd-a4b2f4cc3b3a",
   "metadata": {},
   "outputs": [],
   "source": [
    "os.makedirs('./file')\n",
    "# 新建csv文件\n",
    "if not os.path.exists('./file/豆瓣电影top250.csv'):\n",
    "    with open('./file/豆瓣电影top250.csv','w',newline='') as writer_f:\n",
    "        writer = csv.writer(writer_f)\n",
    "        writer.writerow(['title', 'directors', 'ratingValue', 'casts', 'cover', 'detailLink', 'year', 'types', 'countrys', 'lang', 'datePublished', 'movieTime', 'starsLen', 'stars', 'summary', 'imgList', 'movieUrl'])\n",
    "# 新建爬取条数txt\n",
    "if not os.path.exists('./file/page.txt'):\n",
    "    with open('./file/page.txt', 'w', encoding='utf-8') as f:\n",
    "        f.write('0\\n')"
   ]
  },
  {
   "cell_type": "markdown",
   "id": "2a2507b0-27cd-4278-957d-8e1637da1f9c",
   "metadata": {},
   "source": [
    "### 保存读取当前页"
   ]
  },
  {
   "cell_type": "code",
   "execution_count": null,
   "id": "bf5075f4-0c1a-41da-8845-f67b06bba082",
   "metadata": {},
   "outputs": [],
   "source": [
    "def get_page():\n",
    "    with open('./file/page.txt', 'r') as r_f:\n",
    "        return r_f.readlines()[-1]\n",
    "def set_page(newPage):\n",
    "    with open('./file/page.txt', 'a') as w_f:\n",
    "        w_f.write(str(newPage) + '\\n')\n",
    "def save_to_csv(resultList):\n",
    "    with open('./file/豆瓣电影top250.csv','a',encoding='utf-8',newline='') as writer_f:\n",
    "        writer = csv.writer(writer_f)\n",
    "        for rowData in resultList:\n",
    "            writer.writerow(rowData)"
   ]
  },
  {
   "cell_type": "markdown",
   "id": "16840fcc-7c16-426b-8a47-3899b39caccf",
   "metadata": {},
   "source": [
    "### 爬取函数\n",
    "#### 爬取总数据页面,找到当前页所有的详细电影的url地址\n",
    "#### 再在每个电影详细url地址中爬取具体所需的信息"
   ]
  },
  {
   "cell_type": "code",
   "execution_count": null,
   "id": "16105b40-e721-4356-8f37-194a7acb0223",
   "metadata": {},
   "outputs": [],
   "source": [
    "def douBanSpider():\n",
    "    page = get_page()\n",
    "    params = {\n",
    "        'start': int(page) * 25\n",
    "    }\n",
    "    respTotalHTML = requests.get(totalUrl, headers = headers, params = params)\n",
    "    respTotalHTMLXpath = etree.HTML(respTotalHTML.text)\n",
    "    urlList = respTotalHTMLXpath.xpath('//div[@class=\"hd\"]/a/@href')\n",
    "    resultList = []\n",
    "    for index in range(len(urlList)):\n",
    "        resultData = []\n",
    "        respDetailHTML = requests.get(urlList[index], headers = headers)\n",
    "        respDetailHTMLXpath = etree.HTML(respDetailHTML.text)\n",
    "        # 电影名字\n",
    "        title = respDetailHTMLXpath.xpath('//span[@property=\"v:itemreviewed\"]/text()')\n",
    "        resultData.append(title[0])\n",
    "        # 导演名称\n",
    "        directors = respDetailHTMLXpath.xpath('(//span[@class=\"attrs\"])[1]/a/text()')\n",
    "        resultData.append(','.join(directors))\n",
    "        # 评分\n",
    "        ratingValue = respDetailHTMLXpath.xpath('//div[@class=\"rating_self clearfix\"]/strong/text()')\n",
    "        resultData.append(ratingValue[0])\n",
    "        # 电影演员\n",
    "        casts = respDetailHTMLXpath.xpath('//div[@id=\"info\"]/span[3]/span[2]/a/text()')\n",
    "        resultData.append(','.join(casts))\n",
    "        # 电影封面\n",
    "        cover = respDetailHTMLXpath.xpath('//div[@id=\"mainpic\"]/a/img/@src')\n",
    "        resultData.append(cover[0])\n",
    "        # 电影详细链接\n",
    "        detailLink = urlList[index]\n",
    "        resultData.append(detailLink)\n",
    "        # 电影年份\n",
    "        year = respDetailHTMLXpath.xpath('//span[@class=\"year\"]/text()')[0].strip('()')\n",
    "        resultData.append(year)\n",
    "        # 电影类型\n",
    "        types = respDetailHTMLXpath.xpath('//span[@property=\"v:genre\"]/text()')\n",
    "        resultData.append(','.join(types))\n",
    "        # 电影国家\n",
    "        countrys = re.findall('<span class=\"pl\">制片国家/地区:</span>(.*?)<br/>', respDetailHTML.text)\n",
    "        countrys = countrys[0].split('/')\n",
    "        resultData.append(','.join([country.strip() for country in countrys]))\n",
    "        # 电影语言\n",
    "        lang = re.findall('<span class=\"pl\">语言:</span>(.*?)<br/>', respDetailHTML.text)\n",
    "        lang = lang[0].split('/')\n",
    "        resultData.append(','.join([l.strip() for l in lang]))\n",
    "        # 电影上映时间\n",
    "        datePublished = respDetailHTMLXpath.xpath('//span[@property=\"v:initialReleaseDate\"]/text()')\n",
    "        resultData.append(','.join(datePublished))\n",
    "        # 电影片长\n",
    "        movieTime = respDetailHTMLXpath.xpath('//span[@property=\"v:runtime\"]/text()')\n",
    "        resultData.append(','.join(movieTime))\n",
    "        # 评分人数\n",
    "        starsLen = respDetailHTMLXpath.xpath('//div[@class=\"rating_sum\"]/a/span/text()')\n",
    "        resultData.append(starsLen[0])\n",
    "        # 电影星级占比\n",
    "        stars = respDetailHTMLXpath.xpath('//div[@class=\"ratings-on-weight\"]/div[@class=\"item\"]/span[@class=\"rating_per\"]/text()')\n",
    "        resultData.append(','.join(stars))\n",
    "        # 电影信息介绍\n",
    "        summary = respDetailHTMLXpath.xpath('//span[@property=\"v:summary\"]/text()')[0].strip()\n",
    "        resultData.append(summary)\n",
    "        # 图片列表\n",
    "        imgList = respDetailHTMLXpath.xpath('//div[@id=\"related-pic\"]/ul/li/a/img/@src')\n",
    "        resultData.append(','.join(imgList))\n",
    "        # 预告片链接\n",
    "        movieUrl = respDetailHTMLXpath.xpath('//a[@class=\"related-pic-video\"]/@href')\n",
    "        resultData.append(','.join(movieUrl))\n",
    "        \n",
    "        \n",
    "        resultList.append(resultData)\n",
    "        print(f'爬取第{(int(page) * 25 + index + 1)}部电影完成 - {title[0]}')\n",
    "        \n",
    "     \n",
    "    save_to_csv(resultList)\n",
    "    if(int(page) + 1 >= 10):\n",
    "        print('豆瓣top250电影爬取完成')\n",
    "    else:\n",
    "        set_page(int(page) + 1)\n",
    "        douBanSpider()\n",
    "        \n",
    "        "
   ]
  },
  {
   "cell_type": "markdown",
   "id": "9681ee20-3dfb-423c-9158-03d6332441eb",
   "metadata": {},
   "source": [
    "### 运行"
   ]
  },
  {
   "cell_type": "code",
   "execution_count": null,
   "id": "efc1e0ef-e0c6-4ec9-81ef-ec43ea51e357",
   "metadata": {},
   "outputs": [],
   "source": [
    "douBanSpider()"
   ]
  }
 ],
 "metadata": {
  "kernelspec": {
   "display_name": "Python 3 (ipykernel)",
   "language": "python",
   "name": "python3"
  },
  "language_info": {
   "codemirror_mode": {
    "name": "ipython",
    "version": 3
   },
   "file_extension": ".py",
   "mimetype": "text/x-python",
   "name": "python",
   "nbconvert_exporter": "python",
   "pygments_lexer": "ipython3",
   "version": "3.9.7"
  }
 },
 "nbformat": 4,
 "nbformat_minor": 5
}
